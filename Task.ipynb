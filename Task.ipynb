{
 "cells": [
  {
   "cell_type": "markdown",
   "id": "f10ffc85",
   "metadata": {},
   "source": [
    "TASK 4.1 : CREATING YOUR OWN CUSTOM IMAGE"
   ]
  },
  {
   "cell_type": "code",
   "execution_count": 23,
   "id": "651c348d",
   "metadata": {},
   "outputs": [],
   "source": [
    "#Importing cv2 and numpy library\n",
    "import cv2\n",
    "import numpy as np"
   ]
  },
  {
   "cell_type": "code",
   "execution_count": 24,
   "id": "ca989400",
   "metadata": {},
   "outputs": [],
   "source": [
    "rainbow=np.zeros((800,1500,3),np.uint8)"
   ]
  },
  {
   "cell_type": "code",
   "execution_count": 25,
   "id": "eae64b88",
   "metadata": {},
   "outputs": [],
   "source": [
    "cv2.imshow(\"RAINBOW.jpg\",rainbow)\n",
    "cv2.waitKey()\n",
    "cv2.destroyAllWindows()"
   ]
  },
  {
   "cell_type": "code",
   "execution_count": 26,
   "id": "26f5450b",
   "metadata": {},
   "outputs": [],
   "source": [
    "red=cv2.ellipse(rainbow,(750,750),(560,560),180,0,180,[0,0,255],-2) \n",
    "cv2.imshow(\"RAINBOW.jpg\",rainbow)\n",
    "cv2.waitKey()\n",
    "cv2.destroyAllWindows()\n",
    "orange=cv2.ellipse(rainbow,(750,750),(490,490),180,0,180,[0,127,255],-2) \n",
    "yellow=cv2.ellipse(rainbow,(750,750),(420,420),180,0,180,[0,255,255],-2) \n",
    "green=cv2.ellipse(rainbow,(750,750),(350,350),180,0,180,[0,255,0],-2) \n",
    "blue=cv2.ellipse(rainbow,(750,750),(280,280),180,0,180,[255,0,0],-2) \n",
    "indigo=cv2.ellipse(rainbow,(750,750),(210,210),180,0,180,[130,0,75],-2) \n",
    "violet=cv2.ellipse(rainbow,(750,750),(140,140),180,0,180,[211,0,148],-2) \n",
    "black=cv2.ellipse(rainbow,(750,750),(70,70),180,0,180,[0,0,0],-2) "
   ]
  },
  {
   "cell_type": "code",
   "execution_count": 27,
   "id": "da37f69d",
   "metadata": {},
   "outputs": [],
   "source": [
    "#Showing the rainbow(final image)\n",
    "cv2.imshow(\"RAINBOW.jpg\",rainbow)\n",
    "cv2.waitKey()\n",
    "cv2.destroyAllWindows()"
   ]
  },
  {
   "cell_type": "code",
   "execution_count": null,
   "id": "cea08301",
   "metadata": {},
   "outputs": [],
   "source": []
  }
 ],
 "metadata": {
  "kernelspec": {
   "display_name": "Python 3",
   "language": "python",
   "name": "python3"
  },
  "language_info": {
   "codemirror_mode": {
    "name": "ipython",
    "version": 3
   },
   "file_extension": ".py",
   "mimetype": "text/x-python",
   "name": "python",
   "nbconvert_exporter": "python",
   "pygments_lexer": "ipython3",
   "version": "3.8.8"
  }
 },
 "nbformat": 4,
 "nbformat_minor": 5
}
