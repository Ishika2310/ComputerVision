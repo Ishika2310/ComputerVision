{
 "cells": [
  {
   "cell_type": "markdown",
   "id": "030bea3c",
   "metadata": {},
   "source": [
    "TASK 4.2 : CROPPING TWO DIFFERENT  IMAGES AND SWAPPING THEM "
   ]
  },
  {
   "cell_type": "code",
   "execution_count": 1,
   "id": "706d5d04",
   "metadata": {},
   "outputs": [],
   "source": [
    "#Importing cv2 and numpy library\n",
    "import cv2\n",
    "import numpy"
   ]
  },
  {
   "cell_type": "code",
   "execution_count": 2,
   "id": "0def73cd",
   "metadata": {},
   "outputs": [],
   "source": [
    "#Reading and showing first image\n",
    "p1=cv2.imread(\"PRIDE.jpg\")\n",
    "\n",
    "cv2.imshow(\"PRIDE\",p1)\n",
    "cv2.waitKey()\n",
    "cv2.destroyAllWindows()"
   ]
  },
  {
   "cell_type": "code",
   "execution_count": 3,
   "id": "467bc035",
   "metadata": {},
   "outputs": [],
   "source": [
    "#Reading and showing second image\n",
    "p2=cv2.imread(\"NEWPRIDE.jpg\")\n",
    "\n",
    "cv2.imshow(\"PRIDE\",p2)\n",
    "cv2.waitKey()\n",
    "cv2.destroyAllWindows()"
   ]
  },
  {
   "cell_type": "code",
   "execution_count": 4,
   "id": "bb0c15d9",
   "metadata": {},
   "outputs": [],
   "source": [
    "#Assigning first image to  p3\n",
    "p3=cv2.imread(\"PRIDE.jpg\")"
   ]
  },
  {
   "cell_type": "code",
   "execution_count": 5,
   "id": "03d70df6",
   "metadata": {},
   "outputs": [
    {
     "data": {
      "text/plain": [
       "(480, 853, 3)"
      ]
     },
     "execution_count": 5,
     "metadata": {},
     "output_type": "execute_result"
    }
   ],
   "source": [
    "#Checking the shape of p1\n",
    "p1.shape"
   ]
  },
  {
   "cell_type": "code",
   "execution_count": 6,
   "id": "3ae467c3",
   "metadata": {},
   "outputs": [
    {
     "data": {
      "text/plain": [
       "(480, 853, 3)"
      ]
     },
     "execution_count": 6,
     "metadata": {},
     "output_type": "execute_result"
    }
   ],
   "source": [
    "#Checking the shape of p1\n",
    "p2.shape"
   ]
  },
  {
   "cell_type": "code",
   "execution_count": 7,
   "id": "a4a42bfb",
   "metadata": {},
   "outputs": [],
   "source": [
    "#Cropping and swapping\n",
    "p1[240:500, 240:530] = p2[240:500, 240:530]\n",
    "cv2.imshow('pic', p1)\n",
    "cv2.waitKey()\n",
    "cv2.destroyAllWindows()"
   ]
  },
  {
   "cell_type": "code",
   "execution_count": 8,
   "id": "06cda7f0",
   "metadata": {},
   "outputs": [],
   "source": [
    "#Cropping and swapping\n",
    "p2[240:500, 240:530] = p3[240:500, 240:530]\n",
    "cv2.imshow('pic', p2)\n",
    "cv2.waitKey()\n",
    "cv2.destroyAllWindows()"
   ]
  },
  {
   "cell_type": "code",
   "execution_count": 9,
   "id": "fb1c1fd7",
   "metadata": {},
   "outputs": [],
   "source": [
    "#Concatenating two images horizontally\n",
    "pic = numpy.hstack([p1,p2])\n",
    "cv2.imshow(\"NewSWAPPING\",pic)\n",
    "cv2.waitKey()\n",
    "cv2.destroyAllWindows()"
   ]
  },
  {
   "cell_type": "markdown",
   "id": "9d688840",
   "metadata": {
    "scrolled": true
   },
   "source": [
    "TASK 4.3 : MAKING A COLLAGE OF TWO IMAGES"
   ]
  },
  {
   "cell_type": "code",
   "execution_count": 10,
   "id": "4331fcb4",
   "metadata": {},
   "outputs": [],
   "source": [
    "#Concatenating two images vertically\n",
    "pic = numpy.vstack([p1,p2])\n",
    "cv2.imshow(\"NewSWAPPING\",pic)\n",
    "cv2.waitKey()\n",
    "cv2.destroyAllWindows()"
   ]
  },
  {
   "cell_type": "code",
   "execution_count": null,
   "id": "5f43b5fe",
   "metadata": {},
   "outputs": [],
   "source": []
  }
 ],
 "metadata": {
  "kernelspec": {
   "display_name": "Python 3",
   "language": "python",
   "name": "python3"
  },
  "language_info": {
   "codemirror_mode": {
    "name": "ipython",
    "version": 3
   },
   "file_extension": ".py",
   "mimetype": "text/x-python",
   "name": "python",
   "nbconvert_exporter": "python",
   "pygments_lexer": "ipython3",
   "version": "3.8.8"
  }
 },
 "nbformat": 4,
 "nbformat_minor": 5
}
